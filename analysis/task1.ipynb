{
 "cells": [
  {
   "cell_type": "code",
   "execution_count": 8,
   "id": "7c8f7acc",
   "metadata": {
    "ExecuteTime": {
     "end_time": "2025-09-23T19:14:09.603115Z",
     "start_time": "2025-09-23T19:14:09.593651Z"
    }
   },
   "outputs": [],
   "source": [
    "from typing import Dict, Tuple\n",
    "import h5py\n",
    "import numpy as np\n",
    "import os\n",
    "import cv2\n",
    "from PIL import Image\n",
    "\n",
    "\n",
    "def get_path_in_parent(*args):\n",
    "    return os.path.abspath(os.path.join(os.getcwd(), '..', *args))\n",
    "\n",
    "def get_path_in_storage(*args):\n",
    "    return get_path_in_parent(\"storage\", *args)\n",
    "\n",
    "def get_model_paths(model_num: int):\n",
    "    path = get_path_in_parent(f\"yolo_model_{model_num}\")\n",
    "    return (\n",
    "        os.path.join(path, f\"yolov4-tiny-logistics_size_416_{model_num}.weights\"),\n",
    "        os.path.join(path, f\"yolov4-tiny-logistics_size_416_{model_num}.cfg\")\n",
    "    )\n",
    "\n",
    "def get_outputs(model_num: int) -> Dict[str, Tuple[np.ndarray, ...]]:\n",
    "    net = cv2.dnn.readNet(*get_model_paths(model_num))\n",
    "\n",
    "    layer_names = net.getLayerNames()\n",
    "    output_layers = [layer_names[i - 1] for i in net.getUnconnectedOutLayers()]\n",
    "\n",
    "    outputs = {}\n",
    "    logistics_path = get_path_in_storage(\"logistics\")\n",
    "    for filename in os.listdir(logistics_path):\n",
    "        if not filename.lower().endswith(\".jpg\"):\n",
    "            continue\n",
    "\n",
    "        image = np.array(Image.open(os.path.join(logistics_path, filename)))\n",
    "\n",
    "        blob = cv2.dnn.blobFromImage(image,\n",
    "                                     scalefactor = 1 / 255.,\n",
    "                                     size=(416, 416),\n",
    "                                     mean=(0, 0, 0),\n",
    "                                     swapRB=True,\n",
    "                                     crop=False)\n",
    "\n",
    "        net.setInput(blob)\n",
    "\n",
    "        outputs[filename[:-4]] = net.forward(output_layers)\n",
    "\n",
    "    return outputs\n",
    "\n",
    "def save_outputs(model_num: int, outputs: Dict[str, Tuple[np.ndarray, ...]], nms: bool = False) -> None:\n",
    "    \"\"\"Save a dict of tuples of arrays to an HDF5 file.\"\"\"\n",
    "    path = get_path_in_storage(f\"outputs_{model_num}{\"_nms\" if nms else \"\"}.h5\")\n",
    "    with h5py.File(path, \"w\") as f:\n",
    "        for key, tup in outputs.items():\n",
    "            grp = f.create_group(str(key))\n",
    "            for i, arr in enumerate(tup):\n",
    "                grp.create_dataset(\n",
    "                    f\"array_{i}\", data=arr, compression=\"gzip\", compression_opts=1\n",
    "                )\n",
    "\n",
    "def load_outputs(model_num: int, nms: bool = False) -> Dict[str, Tuple[np.ndarray, ...]]:\n",
    "    \"\"\"Load a dict of tuples of arrays from an HDF5 file.\"\"\"\n",
    "    path = get_path_in_storage(f\"outputs_{model_num}{\"_nms\" if nms else \"\"}.h5\")\n",
    "    outputs_loaded = {}\n",
    "    with h5py.File(path, \"r\") as f:\n",
    "        for key in f.keys():\n",
    "            grp = f[key]\n",
    "            arrays = tuple(np.array(grp[subkey]) for subkey in sorted(grp.keys()))\n",
    "            outputs_loaded[key] = arrays\n",
    "    return outputs_loaded\n",
    "\n",
    "def apply_nms(outputs: Dict[str, Tuple[np.ndarray, ...]],\n",
    "              conf_threshold: float = 0.5,\n",
    "              nms_threshold: float = 0.4\n",
    "             ) -> Dict[str, Tuple[np.ndarray, ...]]:\n",
    "    \"\"\"\n",
    "    Apply Non-Max Suppression (NMS) to YOLO-style outputs.\n",
    "\n",
    "    Args:\n",
    "        outputs (dict): filename -> raw outputs from get_outputs()\n",
    "        conf_threshold (float): confidence threshold\n",
    "        nms_threshold (float): IoU threshold for NMS\n",
    "\n",
    "    Returns:\n",
    "        dict: filename -> tuple of np.ndarrays, same format as net.forward\n",
    "    \"\"\"\n",
    "    filtered_outputs = {}\n",
    "\n",
    "    for fname, layer_outputs in outputs.items():\n",
    "        detections = []\n",
    "\n",
    "        for out in layer_outputs:  # out shape: (N, 85)\n",
    "            for detection in out:\n",
    "                scores = detection[5:]\n",
    "                class_id = np.argmax(scores)\n",
    "                confidence = detection[4] * scores[class_id]\n",
    "\n",
    "                if confidence > conf_threshold:\n",
    "                    cx, cy, w, h = detection[0:4]\n",
    "                    x = cx - w / 2\n",
    "                    y = cy - h / 2\n",
    "\n",
    "                    # build YOLO-style detection row\n",
    "                    det_row = np.zeros_like(detection)\n",
    "                    det_row[0:4] = [x, y, w, h]\n",
    "                    det_row[4] = detection[4]          # objectness\n",
    "                    det_row[5:] = 0.0\n",
    "                    det_row[5 + class_id] = scores[class_id]  # keep only top class\n",
    "\n",
    "                    detections.append((det_row, confidence))\n",
    "\n",
    "        if not detections:\n",
    "            filtered_outputs[fname] = (np.zeros((0, 85), dtype=np.float32),)\n",
    "            continue\n",
    "\n",
    "        # unpack for NMS\n",
    "        boxes = []\n",
    "        confidences = []\n",
    "        det_rows = []\n",
    "        for det_row, conf in detections:\n",
    "            x, y, w, h = det_row[0:4]\n",
    "            boxes.append([int(x), int(y), int(w), int(h)])\n",
    "            confidences.append(float(conf))\n",
    "            det_rows.append(det_row)\n",
    "\n",
    "        indices = cv2.dnn.NMSBoxes(boxes, confidences, conf_threshold, nms_threshold)\n",
    "\n",
    "        if len(indices) > 0:\n",
    "            final = np.array([det_rows[i] for i in indices.flatten()], dtype=np.float32)\n",
    "        else:\n",
    "            final = np.zeros((0, 85), dtype=np.float32)\n",
    "\n",
    "        # wrap in tuple (to mimic net.forward output structure)\n",
    "        filtered_outputs[fname] = (final,)\n",
    "\n",
    "    return filtered_outputs"
   ]
  },
  {
   "cell_type": "markdown",
   "id": "8e54855bb6c05eff",
   "metadata": {},
   "source": [
    "# First time running model"
   ]
  },
  {
   "cell_type": "code",
   "execution_count": null,
   "id": "91bfaa836499a083",
   "metadata": {},
   "outputs": [],
   "source": [
    "outputs_1 = get_outputs(1)\n",
    "save_outputs(1, outputs_1)"
   ]
  },
  {
   "cell_type": "code",
   "execution_count": 6,
   "id": "5a2e16de9562d875",
   "metadata": {
    "ExecuteTime": {
     "end_time": "2025-09-18T03:15:43.827397Z",
     "start_time": "2025-09-18T03:13:34.340057Z"
    }
   },
   "outputs": [],
   "source": [
    "outputs_2 = get_outputs(2)\n",
    "save_outputs(2, outputs_2)"
   ]
  },
  {
   "cell_type": "code",
   "execution_count": 4,
   "id": "a784e5b7f24e499e",
   "metadata": {
    "ExecuteTime": {
     "end_time": "2025-09-23T19:13:25.940045Z",
     "start_time": "2025-09-23T19:13:07.556769Z"
    }
   },
   "outputs": [],
   "source": [
    "outputs_1_nms = apply_nms(outputs_1)\n",
    "save_outputs(1, outputs_1_nms, nms=True)"
   ]
  },
  {
   "cell_type": "code",
   "execution_count": 5,
   "id": "4c218a8b5f1f4944",
   "metadata": {
    "ExecuteTime": {
     "end_time": "2025-09-23T19:13:44.046992Z",
     "start_time": "2025-09-23T19:13:25.943206Z"
    }
   },
   "outputs": [],
   "source": [
    "outputs_2_nms = apply_nms(outputs_2)\n",
    "save_outputs(2, outputs_1_nms, nms=True)"
   ]
  },
  {
   "cell_type": "markdown",
   "id": "8051748b089f85b4",
   "metadata": {},
   "source": [
    "# After first time"
   ]
  },
  {
   "cell_type": "code",
   "execution_count": 2,
   "id": "83cfa9e015e96754",
   "metadata": {
    "ExecuteTime": {
     "end_time": "2025-09-23T19:12:35.221567Z",
     "start_time": "2025-09-23T19:12:27.458365Z"
    }
   },
   "outputs": [],
   "source": [
    "outputs_1 = load_outputs(1)"
   ]
  },
  {
   "cell_type": "code",
   "execution_count": 3,
   "id": "e06eaabec90b2acd",
   "metadata": {
    "ExecuteTime": {
     "end_time": "2025-09-23T19:12:43.272421Z",
     "start_time": "2025-09-23T19:12:35.225145Z"
    }
   },
   "outputs": [],
   "source": [
    "outputs_2 = load_outputs(2)"
   ]
  },
  {
   "cell_type": "code",
   "execution_count": 9,
   "id": "e5cf18c1a278dcd3",
   "metadata": {
    "ExecuteTime": {
     "end_time": "2025-09-23T19:14:13.058180Z",
     "start_time": "2025-09-23T19:14:12.518092Z"
    }
   },
   "outputs": [],
   "source": [
    "outputs_1_nms = load_outputs(1, nms=True)"
   ]
  },
  {
   "cell_type": "code",
   "execution_count": 10,
   "id": "eb767d47e6936487",
   "metadata": {
    "ExecuteTime": {
     "end_time": "2025-09-23T19:14:13.605369Z",
     "start_time": "2025-09-23T19:14:13.063833Z"
    }
   },
   "outputs": [],
   "source": [
    "outputs_2_nms = load_outputs(2, nms=True)"
   ]
  },
  {
   "cell_type": "markdown",
   "id": "739e9c44b9fc1cc3",
   "metadata": {},
   "source": [
    "# Calculate Metrics"
   ]
  },
  {
   "cell_type": "markdown",
   "id": "d3b25956a328c161",
   "metadata": {},
   "source": [
    "## Before NMS"
   ]
  },
  {
   "cell_type": "code",
   "execution_count": 4,
   "id": "162773c6fde36e0a",
   "metadata": {
    "ExecuteTime": {
     "end_time": "2025-09-21T21:22:21.914598Z",
     "start_time": "2025-09-21T21:22:21.911354Z"
    }
   },
   "outputs": [],
   "source": [
    "def get_ground_truths() -> Dict[str, np.ndarray]:\n",
    "    logistics_path = get_path_in_storage(\"logistics\")\n",
    "    res = {}\n",
    "\n",
    "    for filename in os.listdir(logistics_path):\n",
    "        if filename.endswith(\".txt\"):\n",
    "            filepath = os.path.join(logistics_path, filename)\n",
    "\n",
    "            with open(filepath, \"r\") as f:\n",
    "                lines = []\n",
    "\n",
    "                for line in f:\n",
    "                    parts = line.strip().split()\n",
    "                    if len(parts) == 5:  # expecting 5 values\n",
    "                        t = (\n",
    "                            int(parts[0]),\n",
    "                            float(parts[1]),\n",
    "                            float(parts[2]),\n",
    "                            float(parts[3]),\n",
    "                            float(parts[4]),\n",
    "                        )\n",
    "                        lines.append(t)\n",
    "\n",
    "                res[filename[:-4]] = np.array(lines)\n",
    "\n",
    "    return res"
   ]
  },
  {
   "cell_type": "code",
   "execution_count": 5,
   "id": "67aa1d95546b0b9c",
   "metadata": {
    "ExecuteTime": {
     "end_time": "2025-09-21T23:25:44.240663Z",
     "start_time": "2025-09-21T21:22:24.227377Z"
    }
   },
   "outputs": [],
   "source": [
    "from torchvision.ops import box_iou\n",
    "from torch import Tensor\n",
    "import torch\n",
    "\n",
    "def cxcywh_to_xyxy(boxes: Tensor) -> Tensor:\n",
    "    # boxes: (N, 4) in [cx, cy, w, h]\n",
    "    xyxy = torch.zeros_like(boxes)\n",
    "    xyxy[:, 0] = boxes[:, 0] - boxes[:, 2] / 2  # x1\n",
    "    xyxy[:, 1] = boxes[:, 1] - boxes[:, 3] / 2  # y1\n",
    "    xyxy[:, 2] = boxes[:, 0] + boxes[:, 2] / 2  # x2\n",
    "    xyxy[:, 3] = boxes[:, 1] + boxes[:, 3] / 2  # y2\n",
    "    return xyxy\n",
    "\n",
    "def get_precision_and_recall(outputs: Dict[str, Tuple[np.ndarray, ...]],\n",
    "                             ground_truths: Dict[str, np.ndarray],\n",
    "                             confidence_threshold: float,\n",
    "                             iou_threshold: float) -> Tuple[float, float]:\n",
    "\n",
    "    correct_predictions = 0\n",
    "    total_predictions = 0\n",
    "    total_ground_truths = sum(len(gt) for _, gt in ground_truths.items())\n",
    "\n",
    "    for key in outputs:\n",
    "        output = outputs[key]\n",
    "        gt = ground_truths[key]\n",
    "\n",
    "        for feature_maps in output:\n",
    "            for detection in feature_maps:\n",
    "                box = detection[:4]\n",
    "                score = detection[4]\n",
    "                class_scores = detection[5:]\n",
    "                class_id = np.argmax(class_scores)\n",
    "\n",
    "                confidence = score * class_scores[class_id]\n",
    "                if confidence < confidence_threshold:\n",
    "                    continue\n",
    "\n",
    "                total_predictions += 1\n",
    "\n",
    "                # Extract IDs (shape: N,)\n",
    "                gt_ids = gt[:, 0]\n",
    "\n",
    "                # Extract boxes (shape: N, 4)\n",
    "                gt_boxes = gt[:, 1:5]\n",
    "\n",
    "                boxes_xyxy = cxcywh_to_xyxy(torch.from_numpy(box).unsqueeze(0))\n",
    "                gts_xyxy = cxcywh_to_xyxy(torch.tensor(gt_boxes))\n",
    "\n",
    "                ious = box_iou(boxes_xyxy, gts_xyxy)[0]\n",
    "                for iou, gt_id in zip(ious, gt_ids):\n",
    "                    if iou >= iou_threshold and class_id == gt_id:\n",
    "                        # This is a correct prediction\n",
    "                        correct_predictions += 1\n",
    "                        continue\n",
    "\n",
    "    print(correct_predictions, total_predictions, total_ground_truths)\n",
    "    return correct_predictions / total_predictions, correct_predictions / total_ground_truths"
   ]
  },
  {
   "cell_type": "code",
   "execution_count": 6,
   "id": "c51a17840ec56840",
   "metadata": {
    "ExecuteTime": {
     "end_time": "2025-09-21T21:22:42.394930Z",
     "start_time": "2025-09-21T21:22:34.680811Z"
    }
   },
   "outputs": [],
   "source": [
    "gts: Dict[str, np.ndarray] = get_ground_truths()"
   ]
  },
  {
   "cell_type": "code",
   "execution_count": 7,
   "id": "bb7dd455a2112a67",
   "metadata": {
    "ExecuteTime": {
     "end_time": "2025-09-21T23:25:44.242518Z",
     "start_time": "2025-09-21T21:22:42.402246Z"
    }
   },
   "outputs": [
    {
     "name": "stderr",
     "output_type": "stream",
     "text": [
      "/var/folders/1y/4sm5vl2d7_xdd0jwk0tgnhn00000gn/T/ipykernel_5596/790632341.py:46: UserWarning: Creating a tensor from a list of numpy.ndarrays is extremely slow. Please consider converting the list to a single numpy.ndarray with numpy.array() before converting to a tensor. (Triggered internally at /Users/runner/work/pytorch/pytorch/pytorch/torch/csrc/utils/tensor_new.cpp:256.)\n",
      "  boxes_xyxy = cxcywh_to_xyxy(torch.tensor([box]))\n"
     ]
    },
    {
     "name": "stdout",
     "output_type": "stream",
     "text": [
      "11109 12059 36721\n"
     ]
    },
    {
     "data": {
      "text/plain": [
       "(0.9212206650634381, 0.3025244410555268)"
      ]
     },
     "execution_count": 7,
     "metadata": {},
     "output_type": "execute_result"
    }
   ],
   "source": [
    "get_precision_and_recall(outputs_1, gts, 0.5, 0.4)"
   ]
  },
  {
   "cell_type": "code",
   "execution_count": 8,
   "id": "56a30942b7e88bab",
   "metadata": {
    "ExecuteTime": {
     "end_time": "2025-09-21T21:23:27.322288Z",
     "start_time": "2025-09-21T21:23:05.357337Z"
    }
   },
   "outputs": [
    {
     "name": "stdout",
     "output_type": "stream",
     "text": [
      "15183 16082 36721\n"
     ]
    },
    {
     "data": {
      "text/plain": [
       "(0.9440989926626041, 0.4134691321042455)"
      ]
     },
     "execution_count": 8,
     "metadata": {},
     "output_type": "execute_result"
    }
   ],
   "source": [
    "get_precision_and_recall(outputs_2, gts, 0.5, 0.4)"
   ]
  },
  {
   "cell_type": "code",
   "execution_count": 9,
   "id": "c9d2dd0e70bbb242",
   "metadata": {
    "ExecuteTime": {
     "end_time": "2025-09-21T23:25:44.195717Z",
     "start_time": "2025-09-21T21:23:27.329307Z"
    }
   },
   "outputs": [
    {
     "name": "stdout",
     "output_type": "stream",
     "text": [
      "41536 24145875 36721\n",
      "47992 24145875 36721\n",
      "36489 49252 36721\n",
      "43028 54344 36721\n",
      "36390 49049 36721\n",
      "42887 54122 36721\n",
      "32618 42595 36721\n",
      "38826 47632 36721\n",
      "29754 37892 36721\n",
      "35716 42886 36721\n",
      "27540 34425 36721\n",
      "33316 39302 36721\n",
      "25697 31650 36721\n",
      "31355 36546 36721\n",
      "24237 29419 36721\n",
      "29721 34268 36721\n",
      "22968 27549 36721\n",
      "28346 32389 36721\n",
      "21788 25860 36721\n",
      "27081 30734 36721\n",
      "20784 24446 36721\n",
      "25922 29160 36721\n",
      "19830 23111 36721\n",
      "24829 27754 36721\n",
      "18910 21885 36721\n",
      "23820 26456 36721\n",
      "18031 20742 36721\n",
      "22982 25384 36721\n",
      "17262 19751 36721\n",
      "22111 24298 36721\n",
      "16537 18789 36721\n",
      "21336 23346 36721\n",
      "15873 17954 36721\n",
      "20581 22428 36721\n",
      "15246 17159 36721\n",
      "19887 21583 36721\n",
      "14607 16361 36721\n",
      "19157 20710 36721\n",
      "14049 15659 36721\n",
      "18480 19904 36721\n",
      "13488 14961 36721\n",
      "17833 19142 36721\n",
      "12951 14272 36721\n",
      "17228 18433 36721\n",
      "12398 13593 36721\n",
      "16655 17744 36721\n",
      "11866 12970 36721\n",
      "16075 17079 36721\n",
      "11360 12356 36721\n",
      "15469 16409 36721\n",
      "10859 11747 36721\n",
      "14893 15758 36721\n",
      "10337 11138 36721\n",
      "14350 15155 36721\n",
      "9861 10579 36721\n",
      "13806 14547 36721\n",
      "9449 10094 36721\n",
      "13268 13944 36721\n",
      "8966 9530 36721\n",
      "12732 13352 36721\n",
      "8463 8974 36721\n",
      "12192 12754 36721\n",
      "8024 8471 36721\n",
      "11695 12204 36721\n",
      "7580 7971 36721\n",
      "11165 11625 36721\n",
      "7172 7513 36721\n",
      "10655 11061 36721\n",
      "6748 7053 36721\n",
      "10097 10458 36721\n",
      "6309 6567 36721\n",
      "9608 9934 36721\n",
      "5883 6105 36721\n",
      "9079 9358 36721\n",
      "5475 5658 36721\n",
      "8603 8843 36721\n",
      "5029 5191 36721\n",
      "8074 8284 36721\n",
      "4586 4718 36721\n",
      "7560 7748 36721\n",
      "4139 4251 36721\n",
      "7029 7189 36721\n",
      "3711 3803 36721\n",
      "6461 6592 36721\n",
      "3247 3322 36721\n",
      "5859 5967 36721\n",
      "2821 2878 36721\n",
      "5227 5309 36721\n",
      "2392 2430 36721\n",
      "4590 4656 36721\n",
      "1980 2005 36721\n",
      "3907 3953 36721\n",
      "1504 1519 36721\n",
      "3153 3183 36721\n",
      "1029 1037 36721\n",
      "2295 2315 36721\n",
      "451 454 36721\n",
      "1248 1255 36721\n",
      "0 0 36721\n"
     ]
    },
    {
     "ename": "ZeroDivisionError",
     "evalue": "division by zero",
     "output_type": "error",
     "traceback": [
      "\u001b[31m---------------------------------------------------------------------------\u001b[39m",
      "\u001b[31mZeroDivisionError\u001b[39m                         Traceback (most recent call last)",
      "\u001b[36mCell\u001b[39m\u001b[36m \u001b[39m\u001b[32mIn[9]\u001b[39m\u001b[32m, line 12\u001b[39m\n\u001b[32m      9\u001b[39m precisions_2, recalls_2 = [], []\n\u001b[32m     11\u001b[39m \u001b[38;5;28;01mfor\u001b[39;00m t \u001b[38;5;129;01min\u001b[39;00m thresholds:\n\u001b[32m---> \u001b[39m\u001b[32m12\u001b[39m     p1, r1 = \u001b[43mget_precision_and_recall\u001b[49m\u001b[43m(\u001b[49m\u001b[43moutputs_1\u001b[49m\u001b[43m,\u001b[49m\u001b[43m \u001b[49m\u001b[43mgts\u001b[49m\u001b[43m,\u001b[49m\u001b[43m \u001b[49m\u001b[43mt\u001b[49m\u001b[43m,\u001b[49m\u001b[43m \u001b[49m\u001b[43miou_threshold\u001b[49m\u001b[43m)\u001b[49m\n\u001b[32m     13\u001b[39m     p2, r2 = get_precision_and_recall(outputs_2, gts, t, iou_threshold)\n\u001b[32m     15\u001b[39m     precisions_1.append(p1)\n",
      "\u001b[36mCell\u001b[39m\u001b[36m \u001b[39m\u001b[32mIn[5]\u001b[39m\u001b[32m, line 57\u001b[39m, in \u001b[36mget_precision_and_recall\u001b[39m\u001b[34m(outputs, ground_truths, confidence_threshold, iou_threshold)\u001b[39m\n\u001b[32m     54\u001b[39m                     \u001b[38;5;28;01mcontinue\u001b[39;00m\n\u001b[32m     56\u001b[39m \u001b[38;5;28mprint\u001b[39m(correct_predictions, total_predictions, total_ground_truths)\n\u001b[32m---> \u001b[39m\u001b[32m57\u001b[39m \u001b[38;5;28;01mreturn\u001b[39;00m \u001b[43mcorrect_predictions\u001b[49m\u001b[43m \u001b[49m\u001b[43m/\u001b[49m\u001b[43m \u001b[49m\u001b[43mtotal_predictions\u001b[49m, correct_predictions / total_ground_truths\n",
      "\u001b[31mZeroDivisionError\u001b[39m: division by zero"
     ]
    }
   ],
   "source": [
    "import numpy as np\n",
    "import matplotlib.pyplot as plt\n",
    "\n",
    "# Sweep over confidence thresholds\n",
    "thresholds = np.linspace(0, 1, 50)\n",
    "iou_threshold = 0.4\n",
    "\n",
    "precisions_1, recalls_1 = [], []\n",
    "precisions_2, recalls_2 = [], []\n",
    "\n",
    "for t in thresholds:\n",
    "    p1, r1 = get_precision_and_recall(outputs_1, gts, t, iou_threshold)\n",
    "    p2, r2 = get_precision_and_recall(outputs_2, gts, t, iou_threshold)\n",
    "\n",
    "    precisions_1.append(p1)\n",
    "    recalls_1.append(r1)\n",
    "    precisions_2.append(p2)\n",
    "    recalls_2.append(r2)\n",
    "\n",
    "# Plot PR curves\n",
    "plt.figure(figsize=(8,6))\n",
    "plt.plot(recalls_1, precisions_1, label=\"Model 1\", marker=\"o\", markersize=3, linestyle=\"-\")\n",
    "plt.plot(recalls_2, precisions_2, label=\"Model 2\", marker=\"s\", markersize=3, linestyle=\"-\")\n",
    "\n",
    "plt.xlabel(\"Recall\")\n",
    "plt.ylabel(\"Precision\")\n",
    "plt.title(\"Precision-Recall Curve\")\n",
    "plt.legend()\n",
    "plt.grid(True)\n",
    "plt.show()"
   ]
  },
  {
   "cell_type": "code",
   "execution_count": 11,
   "id": "19feb87b21bd32fc",
   "metadata": {
    "ExecuteTime": {
     "end_time": "2025-09-21T23:48:13.987517Z",
     "start_time": "2025-09-21T23:48:13.657619Z"
    }
   },
   "outputs": [
    {
     "data": {
      "image/png": "[encoded data removed]",
      "text/plain": [
       "<Figure size 800x600 with 1 Axes>"
      ]
     },
     "metadata": {},
     "output_type": "display_data"
    }
   ],
   "source": [
    "# Plot PR curves\n",
    "plt.figure(figsize=(8,6))\n",
    "plt.plot(recalls_1, precisions_1, label=\"Model 1\", marker=\"o\", markersize=3, linestyle=\"-\")\n",
    "plt.plot(recalls_2, precisions_2, label=\"Model 2\", marker=\"s\", markersize=3, linestyle=\"-\")\n",
    "\n",
    "plt.xlabel(\"Recall\")\n",
    "plt.ylabel(\"Precision\")\n",
    "plt.title(\"Precision-Recall Curve\")\n",
    "plt.legend()\n",
    "plt.grid(True)"
   ]
  },
  {
   "cell_type": "markdown",
   "id": "74f1499d9964d27b",
   "metadata": {},
   "source": [
    "## After NMS"
   ]
  },
  {
   "cell_type": "code",
   "execution_count": 16,
   "id": "8fd1307cef811a4d",
   "metadata": {
    "ExecuteTime": {
     "end_time": "2025-09-21T23:52:07.475844Z",
     "start_time": "2025-09-21T23:51:40.091756Z"
    }
   },
   "outputs": [
    {
     "name": "stderr",
     "output_type": "stream",
     "text": [
      "Traceback (most recent call last):\n",
      "  File \"<string>\", line 1, in <module>\n",
      "  File \"/Users/andrewjowe/opt/anaconda3/envs/TechTrackDesign/lib/python3.12/multiprocessing/spawn.py\", line 122, in spawn_main\n",
      "    exitcode = _main(fd, parent_sentinel)\n",
      "               ^^^^^^^^^^^^^^^^^^^^^^^^^^\n",
      "  File \"/Users/andrewjowe/opt/anaconda3/envs/TechTrackDesign/lib/python3.12/multiprocessing/spawn.py\", line 132, in _main\n",
      "    self = reduction.pickle.load(from_parent)\n",
      "           ^^^^^^^^^^^^^^^^^^^^^^^^^^^^^^^^^^\n",
      "AttributeError: Can't get attribute 'worker' on <module '__main__' (<class '_frozen_importlib.BuiltinImporter'>)>\n"
     ]
    },
    {
     "ename": "KeyboardInterrupt",
     "evalue": "",
     "output_type": "error",
     "traceback": [
      "\u001b[31m---------------------------------------------------------------------------\u001b[39m",
      "\u001b[31mKeyboardInterrupt\u001b[39m                         Traceback (most recent call last)",
      "\u001b[36mCell\u001b[39m\u001b[36m \u001b[39m\u001b[32mIn[16]\u001b[39m\u001b[32m, line 48\u001b[39m\n\u001b[32m     44\u001b[39m     \u001b[38;5;28;01mreturn\u001b[39;00m results\n\u001b[32m     47\u001b[39m \u001b[38;5;66;03m# Example usage:\u001b[39;00m\n\u001b[32m---> \u001b[39m\u001b[32m48\u001b[39m results = \u001b[43mevaluate_models_with_mp\u001b[49m\u001b[43m(\u001b[49m\u001b[43moutputs_1_nms\u001b[49m\u001b[43m,\u001b[49m\u001b[43m \u001b[49m\u001b[43moutputs_2_nms\u001b[49m\u001b[43m,\u001b[49m\u001b[43m \u001b[49m\u001b[43mgts\u001b[49m\u001b[43m,\u001b[49m\u001b[43m \u001b[49m\u001b[32;43m0.5\u001b[39;49m\u001b[43m,\u001b[49m\u001b[43m \u001b[49m\u001b[32;43m0.4\u001b[39;49m\u001b[43m)\u001b[49m\n\u001b[32m     49\u001b[39m \u001b[38;5;28mprint\u001b[39m(results)  \u001b[38;5;66;03m# {\"model_1\": (precision, recall), \"model_2\": (precision, recall)}\u001b[39;00m\n",
      "\u001b[36mCell\u001b[39m\u001b[36m \u001b[39m\u001b[32mIn[16]\u001b[39m\u001b[32m, line 37\u001b[39m, in \u001b[36mevaluate_models_with_mp\u001b[39m\u001b[34m(output_1_nms, output_2_nms, gts, conf_threshold, iou_threshold)\u001b[39m\n\u001b[32m     32\u001b[39m p1 = mp.Process(target=worker,\n\u001b[32m     33\u001b[39m                 args=(\u001b[33m\"\u001b[39m\u001b[33mmodel_1\u001b[39m\u001b[33m\"\u001b[39m, output_1_nms, gts, conf_threshold, iou_threshold, return_dict))\n\u001b[32m     34\u001b[39m p2 = mp.Process(target=worker,\n\u001b[32m     35\u001b[39m                 args=(\u001b[33m\"\u001b[39m\u001b[33mmodel_2\u001b[39m\u001b[33m\"\u001b[39m, output_2_nms, gts, conf_threshold, iou_threshold, return_dict))\n\u001b[32m---> \u001b[39m\u001b[32m37\u001b[39m \u001b[43mp1\u001b[49m\u001b[43m.\u001b[49m\u001b[43mstart\u001b[49m\u001b[43m(\u001b[49m\u001b[43m)\u001b[49m\n\u001b[32m     38\u001b[39m p2.start()\n\u001b[32m     39\u001b[39m p1.join()\n",
      "\u001b[36mFile \u001b[39m\u001b[32m~/opt/anaconda3/envs/TechTrackDesign/lib/python3.12/multiprocessing/process.py:121\u001b[39m, in \u001b[36mBaseProcess.start\u001b[39m\u001b[34m(self)\u001b[39m\n\u001b[32m    118\u001b[39m \u001b[38;5;28;01massert\u001b[39;00m \u001b[38;5;129;01mnot\u001b[39;00m _current_process._config.get(\u001b[33m'\u001b[39m\u001b[33mdaemon\u001b[39m\u001b[33m'\u001b[39m), \\\n\u001b[32m    119\u001b[39m        \u001b[33m'\u001b[39m\u001b[33mdaemonic processes are not allowed to have children\u001b[39m\u001b[33m'\u001b[39m\n\u001b[32m    120\u001b[39m _cleanup()\n\u001b[32m--> \u001b[39m\u001b[32m121\u001b[39m \u001b[38;5;28mself\u001b[39m._popen = \u001b[38;5;28;43mself\u001b[39;49m\u001b[43m.\u001b[49m\u001b[43m_Popen\u001b[49m\u001b[43m(\u001b[49m\u001b[38;5;28;43mself\u001b[39;49m\u001b[43m)\u001b[49m\n\u001b[32m    122\u001b[39m \u001b[38;5;28mself\u001b[39m._sentinel = \u001b[38;5;28mself\u001b[39m._popen.sentinel\n\u001b[32m    123\u001b[39m \u001b[38;5;66;03m# Avoid a refcycle if the target function holds an indirect\u001b[39;00m\n\u001b[32m    124\u001b[39m \u001b[38;5;66;03m# reference to the process object (see bpo-30775)\u001b[39;00m\n",
      "\u001b[36mFile \u001b[39m\u001b[32m~/opt/anaconda3/envs/TechTrackDesign/lib/python3.12/multiprocessing/context.py:224\u001b[39m, in \u001b[36mProcess._Popen\u001b[39m\u001b[34m(process_obj)\u001b[39m\n\u001b[32m    222\u001b[39m \u001b[38;5;129m@staticmethod\u001b[39m\n\u001b[32m    223\u001b[39m \u001b[38;5;28;01mdef\u001b[39;00m\u001b[38;5;250m \u001b[39m\u001b[34m_Popen\u001b[39m(process_obj):\n\u001b[32m--> \u001b[39m\u001b[32m224\u001b[39m     \u001b[38;5;28;01mreturn\u001b[39;00m \u001b[43m_default_context\u001b[49m\u001b[43m.\u001b[49m\u001b[43mget_context\u001b[49m\u001b[43m(\u001b[49m\u001b[43m)\u001b[49m\u001b[43m.\u001b[49m\u001b[43mProcess\u001b[49m\u001b[43m.\u001b[49m\u001b[43m_Popen\u001b[49m\u001b[43m(\u001b[49m\u001b[43mprocess_obj\u001b[49m\u001b[43m)\u001b[49m\n",
      "\u001b[36mFile \u001b[39m\u001b[32m~/opt/anaconda3/envs/TechTrackDesign/lib/python3.12/multiprocessing/context.py:289\u001b[39m, in \u001b[36mSpawnProcess._Popen\u001b[39m\u001b[34m(process_obj)\u001b[39m\n\u001b[32m    286\u001b[39m \u001b[38;5;129m@staticmethod\u001b[39m\n\u001b[32m    287\u001b[39m \u001b[38;5;28;01mdef\u001b[39;00m\u001b[38;5;250m \u001b[39m\u001b[34m_Popen\u001b[39m(process_obj):\n\u001b[32m    288\u001b[39m     \u001b[38;5;28;01mfrom\u001b[39;00m\u001b[38;5;250m \u001b[39m\u001b[34;01m.\u001b[39;00m\u001b[34;01mpopen_spawn_posix\u001b[39;00m\u001b[38;5;250m \u001b[39m\u001b[38;5;28;01mimport\u001b[39;00m Popen\n\u001b[32m--> \u001b[39m\u001b[32m289\u001b[39m     \u001b[38;5;28;01mreturn\u001b[39;00m \u001b[43mPopen\u001b[49m\u001b[43m(\u001b[49m\u001b[43mprocess_obj\u001b[49m\u001b[43m)\u001b[49m\n",
      "\u001b[36mFile \u001b[39m\u001b[32m~/opt/anaconda3/envs/TechTrackDesign/lib/python3.12/multiprocessing/popen_spawn_posix.py:32\u001b[39m, in \u001b[36mPopen.__init__\u001b[39m\u001b[34m(self, process_obj)\u001b[39m\n\u001b[32m     30\u001b[39m \u001b[38;5;28;01mdef\u001b[39;00m\u001b[38;5;250m \u001b[39m\u001b[34m__init__\u001b[39m(\u001b[38;5;28mself\u001b[39m, process_obj):\n\u001b[32m     31\u001b[39m     \u001b[38;5;28mself\u001b[39m._fds = []\n\u001b[32m---> \u001b[39m\u001b[32m32\u001b[39m     \u001b[38;5;28;43msuper\u001b[39;49m\u001b[43m(\u001b[49m\u001b[43m)\u001b[49m\u001b[43m.\u001b[49m\u001b[34;43m__init__\u001b[39;49m\u001b[43m(\u001b[49m\u001b[43mprocess_obj\u001b[49m\u001b[43m)\u001b[49m\n",
      "\u001b[36mFile \u001b[39m\u001b[32m~/opt/anaconda3/envs/TechTrackDesign/lib/python3.12/multiprocessing/popen_fork.py:19\u001b[39m, in \u001b[36mPopen.__init__\u001b[39m\u001b[34m(self, process_obj)\u001b[39m\n\u001b[32m     17\u001b[39m \u001b[38;5;28mself\u001b[39m.returncode = \u001b[38;5;28;01mNone\u001b[39;00m\n\u001b[32m     18\u001b[39m \u001b[38;5;28mself\u001b[39m.finalizer = \u001b[38;5;28;01mNone\u001b[39;00m\n\u001b[32m---> \u001b[39m\u001b[32m19\u001b[39m \u001b[38;5;28;43mself\u001b[39;49m\u001b[43m.\u001b[49m\u001b[43m_launch\u001b[49m\u001b[43m(\u001b[49m\u001b[43mprocess_obj\u001b[49m\u001b[43m)\u001b[49m\n",
      "\u001b[36mFile \u001b[39m\u001b[32m~/opt/anaconda3/envs/TechTrackDesign/lib/python3.12/multiprocessing/popen_spawn_posix.py:62\u001b[39m, in \u001b[36mPopen._launch\u001b[39m\u001b[34m(self, process_obj)\u001b[39m\n\u001b[32m     60\u001b[39m     \u001b[38;5;28mself\u001b[39m.sentinel = parent_r\n\u001b[32m     61\u001b[39m     \u001b[38;5;28;01mwith\u001b[39;00m \u001b[38;5;28mopen\u001b[39m(parent_w, \u001b[33m'\u001b[39m\u001b[33mwb\u001b[39m\u001b[33m'\u001b[39m, closefd=\u001b[38;5;28;01mFalse\u001b[39;00m) \u001b[38;5;28;01mas\u001b[39;00m f:\n\u001b[32m---> \u001b[39m\u001b[32m62\u001b[39m         \u001b[43mf\u001b[49m\u001b[43m.\u001b[49m\u001b[43mwrite\u001b[49m\u001b[43m(\u001b[49m\u001b[43mfp\u001b[49m\u001b[43m.\u001b[49m\u001b[43mgetbuffer\u001b[49m\u001b[43m(\u001b[49m\u001b[43m)\u001b[49m\u001b[43m)\u001b[49m\n\u001b[32m     63\u001b[39m \u001b[38;5;28;01mfinally\u001b[39;00m:\n\u001b[32m     64\u001b[39m     fds_to_close = []\n",
      "\u001b[31mKeyboardInterrupt\u001b[39m: "
     ]
    }
   ],
   "source": [
    "import multiprocessing as mp\n",
    "from multiprocessing import Manager\n",
    "from typing import Dict, Tuple\n",
    "import numpy as np\n",
    "\n",
    "\n",
    "def worker(model_name: str,\n",
    "           outputs: Dict[str, Tuple[np.ndarray, ...]],\n",
    "           gts: Dict[str, np.ndarray],\n",
    "           conf_threshold: float,\n",
    "           iou_threshold: float,\n",
    "           return_dict):\n",
    "    \"\"\"\n",
    "    Worker function to compute precision/recall for a given model.\n",
    "    \"\"\"\n",
    "    precision, recall = get_precision_and_recall(outputs, gts, conf_threshold, iou_threshold)\n",
    "    return_dict[model_name] = (precision, recall)\n",
    "\n",
    "\n",
    "def evaluate_models_with_mp(output_1_nms, output_2_nms, gts,\n",
    "                            conf_threshold: float = 0.5,\n",
    "                            iou_threshold: float = 0.4):\n",
    "    \"\"\"\n",
    "    Run per-class precision/recall evaluation in parallel\n",
    "    using multiprocessing with shared memory.\n",
    "    \"\"\"\n",
    "    with Manager() as manager:\n",
    "        # Shared dictionary for results\n",
    "        return_dict = manager.dict()\n",
    "\n",
    "        # Launch processes\n",
    "        p1 = mp.Process(target=worker,\n",
    "                        args=(\"model_1\", output_1_nms, gts, conf_threshold, iou_threshold, return_dict))\n",
    "        p2 = mp.Process(target=worker,\n",
    "                        args=(\"model_2\", output_2_nms, gts, conf_threshold, iou_threshold, return_dict))\n",
    "\n",
    "        p1.start()\n",
    "        p2.start()\n",
    "        p1.join()\n",
    "        p2.join()\n",
    "\n",
    "        results = dict(return_dict)\n",
    "\n",
    "    return results\n",
    "\n",
    "\n",
    "# Example usage:\n",
    "results = evaluate_models_with_mp(outputs_1_nms, outputs_2_nms, gts, 0.5, 0.4)\n",
    "print(results)  # {\"model_1\": (precision, recall), \"model_2\": (precision, recall)}"
   ]
  },
  {
   "cell_type": "code",
   "execution_count": null,
   "id": "8c98aef8abf479df",
   "metadata": {},
   "outputs": [],
   "source": [
    "import numpy as np\n",
    "import multiprocessing as mp\n",
    "from multiprocessing import shared_memory\n",
    "from typing import Dict, Tuple\n",
    "\n",
    "\n",
    "def dict_to_shm(dict_data: Dict[str, np.ndarray]):\n",
    "    \"\"\"\n",
    "    Store dict of numpy arrays in shared memory.\n",
    "    Returns (shm_dict, shapes, dtypes) for reconstruction.\n",
    "    \"\"\"\n",
    "    shm_dict = {}\n",
    "    shapes, dtypes = {}, {}\n",
    "    for k, arr in dict_data.items():\n",
    "        arr = np.asarray(arr)\n",
    "        shm = shared_memory.SharedMemory(create=True, size=arr.nbytes)\n",
    "        shm_arr = np.ndarray(arr.shape, dtype=arr.dtype, buffer=shm.buf)\n",
    "        shm_arr[:] = arr[:]  # copy data into shared block\n",
    "        shm_dict[k] = shm.name\n",
    "        shapes[k] = arr.shape\n",
    "        dtypes[k] = arr.dtype.str\n",
    "    return shm_dict, shapes, dtypes\n",
    "\n",
    "\n",
    "def shm_to_dict(shm_dict, shapes, dtypes):\n",
    "    \"\"\"\n",
    "    Reconstruct dict of numpy arrays from shared memory handles.\n",
    "    \"\"\"\n",
    "    res = {}\n",
    "    for k, name in shm_dict.items():\n",
    "        shm = shared_memory.SharedMemory(name=name)\n",
    "        arr = np.ndarray(shapes[k], dtype=np.dtype(dtypes[k]), buffer=shm.buf)\n",
    "        res[k] = arr\n",
    "    return res\n",
    "\n",
    "\n",
    "def worker(model_name: str,\n",
    "           shm_outputs, outputs_shapes, outputs_dtypes,\n",
    "           shm_gts, gts_shapes, gts_dtypes,\n",
    "           conf_threshold: float,\n",
    "           iou_threshold: float,\n",
    "           return_dict):\n",
    "    \"\"\"\n",
    "    Worker: compute per-class precision/recall.\n",
    "    \"\"\"\n",
    "    outputs = shm_to_dict(shm_outputs, outputs_shapes, outputs_dtypes)\n",
    "    gts = shm_to_dict(shm_gts, gts_shapes, gts_dtypes)\n",
    "\n",
    "    # 🔑 Call your existing function that computes *per-class* precision & recall\n",
    "    per_class_results = get_precision_and_recall(outputs, gts, conf_threshold, iou_threshold)\n",
    "\n",
    "    return_dict[model_name] = per_class_results\n",
    "\n",
    "\n",
    "def evaluate_models_with_mp(output_1_nms, output_2_nms, gts,\n",
    "                            conf_threshold: float = 0.5,\n",
    "                            iou_threshold: float = 0.4):\n",
    "    \"\"\"\n",
    "    Parallel per-class precision/recall evaluation with true shared memory.\n",
    "    \"\"\"\n",
    "    # Store in shared memory\n",
    "    shm_out1, out1_shapes, out1_dtypes = dict_to_shm(output_1_nms)\n",
    "    shm_out2, out2_shapes, out2_dtypes = dict_to_shm(output_2_nms)\n",
    "    shm_gts, gts_shapes, gts_dtypes = dict_to_shm(gts)\n",
    "\n",
    "    with mp.Manager() as manager:\n",
    "        return_dict = manager.dict()\n",
    "\n",
    "        p1 = mp.Process(target=worker,\n",
    "                        args=(\"model_1\", shm_out1, out1_shapes, out1_dtypes,\n",
    "                              shm_gts, gts_shapes, gts_dtypes,\n",
    "                              conf_threshold, iou_threshold, return_dict))\n",
    "        p2 = mp.Process(target=worker,\n",
    "                        args=(\"model_2\", shm_out2, out2_shapes, out2_dtypes,\n",
    "                              shm_gts, gts_shapes, gts_dtypes,\n",
    "                              conf_threshold, iou_threshold, return_dict))\n",
    "\n",
    "        p1.start()\n",
    "        p2.start()\n",
    "        p1.join()\n",
    "        p2.join()\n",
    "\n",
    "        results = dict(return_dict)\n",
    "\n",
    "    return results\n"
   ]
  }
 ],
 "metadata": {
  "kernelspec": {
   "display_name": "TechTrackDesign",
   "language": "python",
   "name": "python3"
  },
  "language_info": {
   "codemirror_mode": {
    "name": "ipython",
    "version": 3
   },
   "file_extension": ".py",
   "mimetype": "text/x-python",
   "name": "python",
   "nbconvert_exporter": "python",
   "pygments_lexer": "ipython3",
   "version": "3.12.11"
  }
 },
 "nbformat": 4,
 "nbformat_minor": 5
}
