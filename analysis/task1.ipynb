{
 "cells": [
  {
   "cell_type": "code",
   "execution_count": 1,
   "id": "initial_id",
   "metadata": {
    "ExecuteTime": {
     "end_time": "2025-09-17T19:37:20.380051Z",
     "start_time": "2025-09-17T19:37:20.266515Z"
    },
    "collapsed": true
   },
   "outputs": [],
   "source": [
    "import cv2\n",
    "import numpy as np\n",
    "import os\n",
    "from PIL import Image\n",
    "from typing import List\n",
    "import json\n",
    "import sys"
   ]
  },
  {
   "cell_type": "code",
   "execution_count": 2,
   "id": "7c8f7acc",
   "metadata": {},
   "outputs": [],
   "source": [
    "def get_path_in_parent(*args):\n",
    "    return os.path.abspath(os.path.join(os.getcwd(), '..', *args))"
   ]
  },
  {
   "cell_type": "code",
   "execution_count": 3,
   "id": "1417a850f4f9c8e3",
   "metadata": {
    "ExecuteTime": {
     "end_time": "2025-09-17T19:37:25.942503Z",
     "start_time": "2025-09-17T19:37:25.939034Z"
    }
   },
   "outputs": [],
   "source": [
    "def get_outputs(model_num: int) -> List[np.ndarray]:\n",
    "    net = cv2.dnn.readNet(\n",
    "        get_path_in_parent(f\"yolo_model_{model_num}\", f\"yolov4-tiny-logistics_size_416_{model_num}.weights\"),\n",
    "        get_path_in_parent(f\"yolo_model_{model_num}\", f\"yolov4-tiny-logistics_size_416_{model_num}.cfg\")\n",
    "    )\n",
    "    \n",
    "    layer_names = net.getLayerNames()\n",
    "    output_layers = [layer_names[i - 1] for i in net.getUnconnectedOutLayers()]\n",
    "      \n",
    "    outputs = []\n",
    "    logistics_path = get_path_in_parent(\"logistics\")\n",
    "    for filename in sorted(os.listdir(logistics_path)):\n",
    "        if not filename.lower().endswith(\".jpg\"):\n",
    "            continue\n",
    "        \n",
    "        image = np.array(Image.open(os.path.join(logistics_path, filename)))\n",
    "        \n",
    "        blob = cv2.dnn.blobFromImage(image,\n",
    "                                     scalefactor = 1 / 255.,\n",
    "                                     size=(416, 416),\n",
    "                                     mean=(0, 0, 0),\n",
    "                                     swapRB=True,\n",
    "                                     crop=False)\n",
    "        \n",
    "        net.setInput(blob)\n",
    "        \n",
    "        outputs.append(net.forward(output_layers))\n",
    "        \n",
    "    return outputs"
   ]
  },
  {
   "cell_type": "code",
   "execution_count": 4,
   "id": "91bfaa836499a083",
   "metadata": {
    "ExecuteTime": {
     "end_time": "2025-09-17T19:37:26.688231Z",
     "start_time": "2025-09-17T19:37:26.599306Z"
    }
   },
   "outputs": [],
   "source": [
    "outputs_1 = get_outputs(1)"
   ]
  },
  {
   "cell_type": "code",
   "execution_count": 5,
   "id": "5d92d35b",
   "metadata": {},
   "outputs": [],
   "source": [
    "# Convert to json serializable\n",
    "for i, feature_map in enumerate(outputs_1):\n",
    "    outputs_1[i] = [detection.tolist() for detection in feature_map]"
   ]
  },
  {
   "cell_type": "code",
   "execution_count": 9,
   "id": "9366f7cb",
   "metadata": {},
   "outputs": [],
   "source": [
    "with open(get_path_in_parent(\"results\", \"model_1.json\"), \"w\") as f:\n",
    "    json.dump({\n",
    "        1: outputs_1\n",
    "    }, f, indent=2)"
   ]
  },
  {
   "cell_type": "code",
   "execution_count": null,
   "id": "b89e2a55",
   "metadata": {},
   "outputs": [
    {
     "ename": "",
     "evalue": "",
     "output_type": "error",
     "traceback": [
      "\u001b[1;31mThe Kernel crashed while executing code in the current cell or a previous cell. \n",
      "\u001b[1;31mPlease review the code in the cell(s) to identify a possible cause of the failure. \n",
      "\u001b[1;31mClick <a href='https://aka.ms/vscodeJupyterKernelCrash'>here</a> for more info. \n",
      "\u001b[1;31mView Jupyter <a href='command:jupyter.viewOutput'>log</a> for further details."
     ]
    }
   ],
   "source": [
    "outputs_2 = get_outputs(2)"
   ]
  },
  {
   "cell_type": "code",
   "execution_count": null,
   "id": "42bcc05d",
   "metadata": {},
   "outputs": [],
   "source": [
    "# Convert to json serializable\n",
    "for i, feature_map in enumerate(outputs_2):\n",
    "    outputs_2[i] = [detection.tolist() for detection in feature_map]"
   ]
  },
  {
   "cell_type": "code",
   "execution_count": null,
   "id": "af66cedd",
   "metadata": {},
   "outputs": [],
   "source": [
    "with open(get_path_in_parent(\"results\", \"model_2.json\"), \"w\") as f:\n",
    "    json.dump(outputs_2, f, indent=2)"
   ]
  },
  {
   "cell_type": "code",
   "execution_count": null,
   "id": "dddf9643",
   "metadata": {},
   "outputs": [],
   "source": []
  }
 ],
 "metadata": {
  "kernelspec": {
   "display_name": "techtrack",
   "language": "python",
   "name": "python3"
  },
  "language_info": {
   "codemirror_mode": {
    "name": "ipython",
    "version": 3
   },
   "file_extension": ".py",
   "mimetype": "text/x-python",
   "name": "python",
   "nbconvert_exporter": "python",
   "pygments_lexer": "ipython3",
   "version": "3.12.11"
  }
 },
 "nbformat": 4,
 "nbformat_minor": 5
}
