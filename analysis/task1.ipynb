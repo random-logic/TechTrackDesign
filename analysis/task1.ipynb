{
 "cells": [
  {
   "cell_type": "code",
   "execution_count": null,
   "id": "initial_id",
   "metadata": {
    "collapsed": true
   },
   "outputs": [],
   "source": [
    "import cv2\n",
    "import numpy as np\n",
    "import os\n",
    "from PIL import Image\n",
    "from typing import List"
   ]
  },
  {
   "metadata": {
    "ExecuteTime": {
     "end_time": "2025-09-17T03:31:36.731774Z",
     "start_time": "2025-09-17T03:31:36.728223Z"
    }
   },
   "cell_type": "code",
   "source": [
    "def get_output(model_num: int) -> List[np.ndarray]:\n",
    "    net = cv2.dnn.readNet(\n",
    "        os.path.join(f\"yolo_model_{model_num}\", \"yolov4-tiny-logistics_size_416_1.weights\"),\n",
    "        os.path.join(f\"yolo_model_{model_num}\", \"yolov4-tiny-logistics_size_416_1.cfg\")\n",
    "    )\n",
    "    \n",
    "    layer_names = net.getLayerNames()\n",
    "    output_layers = [layer_names[i - 1] for i in net.getUnconnectedOutLayers()]\n",
    "      \n",
    "    outputs = []    \n",
    "    for filename in sorted(os.listdir(\"logistics\")):\n",
    "        if not filename.lower().endswith(\".jpg\"):\n",
    "            continue\n",
    "        \n",
    "        image = np.array(Image.open(os.path.join(\"logistics\", filename)))\n",
    "        \n",
    "        blob = cv2.dnn.blobFromImage(image,\n",
    "                                     scalefactor = 1 / 255.,\n",
    "                                     size=(416, 416),\n",
    "                                     mean=(0, 0, 0),\n",
    "                                     swapRB=True,\n",
    "                                     crop=False)\n",
    "        \n",
    "        net.setInput(blob)\n",
    "        \n",
    "        outputs.append(net.forward(output_layers))\n",
    "        \n",
    "    return outputs"
   ],
   "id": "1417a850f4f9c8e3",
   "outputs": [],
   "execution_count": 1
  },
  {
   "metadata": {},
   "cell_type": "code",
   "outputs": [],
   "execution_count": null,
   "source": "",
   "id": "91bfaa836499a083"
  }
 ],
 "metadata": {
  "kernelspec": {
   "display_name": "Python 3",
   "language": "python",
   "name": "python3"
  },
  "language_info": {
   "codemirror_mode": {
    "name": "ipython",
    "version": 2
   },
   "file_extension": ".py",
   "mimetype": "text/x-python",
   "name": "python",
   "nbconvert_exporter": "python",
   "pygments_lexer": "ipython2",
   "version": "2.7.6"
  }
 },
 "nbformat": 4,
 "nbformat_minor": 5
}
