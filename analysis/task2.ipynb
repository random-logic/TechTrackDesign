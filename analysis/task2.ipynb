{
 "cells": [
  {
   "cell_type": "code",
   "execution_count": 1,
   "id": "initial_id",
   "metadata": {
    "ExecuteTime": {
     "end_time": "2025-09-23T19:28:16.216326Z",
     "start_time": "2025-09-23T19:28:16.212099Z"
    },
    "collapsed": true
   },
   "outputs": [],
   "source": [
    "import os\n",
    "import h5py\n",
    "import numpy as np\n",
    "from typing import Dict, Tuple\n",
    "\n",
    "\n",
    "def get_path_in_parent(*args):\n",
    "    return os.path.abspath(os.path.join(os.getcwd(), '..', *args))\n",
    "\n",
    "def get_path_in_storage(*args):\n",
    "    return get_path_in_parent(\"storage\", *args)\n",
    "\n",
    "def get_logistics_path(*args):\n",
    "    return get_path_in_storage(\"logistics\", *args)\n",
    "\n",
    "def save_outputs(model_num: int, outputs: Dict[str, Tuple[np.ndarray, ...]], nms: bool = False, sampled=False) -> None:\n",
    "    \"\"\"Save a dict of tuples of arrays to an HDF5 file.\"\"\"\n",
    "    path = get_path_in_storage(f\"outputs_{model_num}{\"_nms\" if nms else \"\"}{\"_sampled\" if sampled else \"\"}.h5\")\n",
    "    with h5py.File(path, \"w\") as f:\n",
    "        for key, tup in outputs.items():\n",
    "            grp = f.create_group(str(key))\n",
    "            for i, arr in enumerate(tup):\n",
    "                grp.create_dataset(\n",
    "                    f\"array_{i}\", data=arr, compression=\"gzip\", compression_opts=1\n",
    "                )\n",
    "\n",
    "def load_outputs(model_num: int, nms: bool = False, sampled = False) -> Dict[str, Tuple[np.ndarray, ...]]:\n",
    "    \"\"\"Load a dict of tuples of arrays from an HDF5 file.\"\"\"\n",
    "    path = get_path_in_storage(f\"outputs_{model_num}{\"_nms\" if nms else \"\"}.h5\")\n",
    "    outputs_loaded = {}\n",
    "    with h5py.File(path, \"r\") as f:\n",
    "        for key in f.keys():\n",
    "            grp = f[key]\n",
    "            arrays = tuple(np.array(grp[subkey]) for subkey in sorted(grp.keys()))\n",
    "            outputs_loaded[key] = arrays\n",
    "    return outputs_loaded"
   ]
  },
  {
   "cell_type": "code",
   "execution_count": 2,
   "id": "9692fe32b8f909d8",
   "metadata": {
    "ExecuteTime": {
     "end_time": "2025-09-23T19:28:17.091293Z",
     "start_time": "2025-09-23T19:28:16.478457Z"
    }
   },
   "outputs": [],
   "source": [
    "import glob\n",
    "\n",
    "# Collect results in a 1D list\n",
    "data = []\n",
    "\n",
    "# Iterate over all .txt files\n",
    "for filepath in glob.glob(get_logistics_path(\"*.txt\")):\n",
    "    img_file_name = f\"{os.path.splitext(os.path.basename(filepath))[0]}.jpg\"\n",
    "\n",
    "    with open(filepath, \"r\") as f:\n",
    "        for line in f:\n",
    "            parts = line.strip().split()\n",
    "            if len(parts) >= 5:\n",
    "                # Extract values from line\n",
    "                obj_id, x, y, w, h = parts[:5]\n",
    "                # Convert to int or float depending on file format\n",
    "                obj_id = int(obj_id)\n",
    "                x, y, w, h = map(float, (x, y, w, h))\n",
    "\n",
    "                # Append tuple to results\n",
    "                data.append((obj_id, x, y, w, h, img_file_name))\n"
   ]
  },
  {
   "cell_type": "code",
   "execution_count": 3,
   "id": "4fe163142d1d9e42",
   "metadata": {
    "ExecuteTime": {
     "end_time": "2025-09-23T19:28:18.360221Z",
     "start_time": "2025-09-23T19:28:18.356275Z"
    }
   },
   "outputs": [
    {
     "data": {
      "text/plain": [
       "36721"
      ]
     },
     "execution_count": 3,
     "metadata": {},
     "output_type": "execute_result"
    }
   ],
   "source": [
    "len(data)"
   ]
  },
  {
   "cell_type": "code",
   "execution_count": null,
   "id": "cd16b31b63e97bc1",
   "metadata": {
    "ExecuteTime": {
     "end_time": "2025-09-23T19:32:35.905426Z",
     "start_time": "2025-09-23T19:32:35.885617Z"
    }
   },
   "outputs": [
    {
     "name": "stdout",
     "output_type": "stream",
     "text": [
      "Original size: 36721, Sampled size: 7345\n"
     ]
    },
    {
     "data": {
      "text/plain": [
       "[(19,\n",
       "  0.33046875,\n",
       "  0.465625,\n",
       "  0.0265625,\n",
       "  0.03125,\n",
       "  '1574676188-741767_jpg.rf.246d2023cef448e477bc88377daf6895.jpg'),\n",
       " (13,\n",
       "  0.47421875,\n",
       "  0.4953125,\n",
       "  0.1171875,\n",
       "  0.20625,\n",
       "  'ppe_0437_jpg.rf.44e92b769679dc08249b78f98c40b54f.jpg'),\n",
       " (2,\n",
       "  0.85390625,\n",
       "  0.8859375,\n",
       "  0.0328125,\n",
       "  0.03125,\n",
       "  'Y4Y4IQOWJ9NM_jpg.rf.cdc815ffb2b12fd1715812cde12340bc.jpg'),\n",
       " (19,\n",
       "  0.5671875,\n",
       "  0.6421875,\n",
       "  0.103125,\n",
       "  0.078125,\n",
       "  '1579163982-3432484_jpg.rf.b75bc8dede42c7ca24554fc21de93e58.jpg'),\n",
       " (10,\n",
       "  0.54921875,\n",
       "  0.27890625,\n",
       "  0.0671875,\n",
       "  0.1703125,\n",
       "  'ppe_0557_jpg.rf.d3c25c119979adb01c65aba0224a1eb2.jpg'),\n",
       " (19,\n",
       "  0.2484375,\n",
       "  0.48671875,\n",
       "  0.096875,\n",
       "  0.0609375,\n",
       "  '1564564749643-49_jpg.rf.992a32dab7be12756d39b2ccaab3bc17.jpg'),\n",
       " (17,\n",
       "  0.46015625,\n",
       "  0.509375,\n",
       "  0.8203125,\n",
       "  0.60625,\n",
       "  'pt-label_6254_jpg.rf.4792b721bc1a462afe574c7f4d2ed9f3.jpg'),\n",
       " (2,\n",
       "  0.67109375,\n",
       "  0.8765625,\n",
       "  0.1921875,\n",
       "  0.09375,\n",
       "  'img480_jpg.rf.0e698e0adbd3bdcf56464c5ea5fe7864.jpg'),\n",
       " (10,\n",
       "  0.22265625,\n",
       "  0.6390625,\n",
       "  0.1109375,\n",
       "  0.2,\n",
       "  'H6IVAWULXGZ8_jpg.rf.e031c081ebdaafdc734ecb311feb5015.jpg'),\n",
       " (19,\n",
       "  0.96875,\n",
       "  0.66015625,\n",
       "  0.034375,\n",
       "  0.0421875,\n",
       "  '1564564809-9157617_jpg.rf.4d60727644e859098f062b38c601fe92.jpg')]"
      ]
     },
     "execution_count": 5,
     "metadata": {},
     "output_type": "execute_result"
    }
   ],
   "source": [
    "from sklearn.model_selection import train_test_split\n",
    "\n",
    "# `ids` are the labels we stratify on (the 0th element in each tuple)\n",
    "ids = [item[-1] for item in data]\n",
    "\n",
    "# Stratified split\n",
    "_, sample = train_test_split(\n",
    "    data,\n",
    "    test_size=0.2,   # fraction\n",
    "    stratify=ids,\n",
    "    random_state=42\n",
    ")\n",
    "\n",
    "print(f\"Original size: {len(data)}, Sampled size: {len(sample)}\")\n",
    "sample[:10]"
   ]
  },
  {
   "cell_type": "code",
   "execution_count": 7,
   "id": "c5446f0b8e640a3c",
   "metadata": {
    "ExecuteTime": {
     "end_time": "2025-09-23T19:37:57.022054Z",
     "start_time": "2025-09-23T19:37:57.010473Z"
    }
   },
   "outputs": [],
   "source": [
    "import pickle\n",
    "\n",
    "# Save list to pickle file\n",
    "with open(get_path_in_storage(\"sampled_data.pkl\"), \"wb\") as f:\n",
    "    pickle.dump(data, f)"
   ]
  },
  {
   "cell_type": "code",
   "execution_count": null,
   "id": "480b459c6a4e6f61",
   "metadata": {},
   "outputs": [],
   "source": []
  }
 ],
 "metadata": {
  "kernelspec": {
   "display_name": "Python 3",
   "language": "python",
   "name": "python3"
  },
  "language_info": {
   "codemirror_mode": {
    "name": "ipython",
    "version": 2
   },
   "file_extension": ".py",
   "mimetype": "text/x-python",
   "name": "python",
   "nbconvert_exporter": "python",
   "pygments_lexer": "ipython2",
   "version": "2.7.6"
  }
 },
 "nbformat": 4,
 "nbformat_minor": 5
}
